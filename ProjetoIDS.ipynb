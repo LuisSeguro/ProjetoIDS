A base de dados escolhida é sobre as aplicações da Google Play Store contendo dados como o nome da app, número de instalações, género de aplicação, rating dado pelos users, número de reviews, tamanho da app, preço, restrições de conteúdo da app entre outras.
Objetivo: Analisar tendências e os maiores sucessos na Google Play Store
Base de dados: googleplaystore.csv adquirida a partir do site Kaggle
A primeira análise feita foi ao género de aplicações e ao número de instalações.
